{
 "cells": [
  {
   "cell_type": "code",
   "execution_count": 1,
   "metadata": {},
   "outputs": [],
   "source": [
    "import pandas as pd\n",
    "import os"
   ]
  },
  {
   "cell_type": "code",
   "execution_count": 9,
   "metadata": {},
   "outputs": [
    {
     "name": "stdout",
     "output_type": "stream",
     "text": [
      "env: WD=/Users/amandeep/Documents/wikidata-20200504\n",
      "env: COUNTRY_DIR=/Users/amandeep/Github/wikidata-fuzzy-search/utils/regional_data\n"
     ]
    }
   ],
   "source": [
    "%env WD=/Users/amandeep/Documents/wikidata-20200504\n",
    "%env COUNTRY_DIR=/Users/amandeep/Github/wikidata-fuzzy-search/utils/regional_data"
   ]
  },
  {
   "cell_type": "code",
   "execution_count": 3,
   "metadata": {},
   "outputs": [
    {
     "name": "stdout",
     "output_type": "stream",
     "text": [
      "total 59394384\r\n",
      "-rw-r--r--  1 amandeep  staff    12G May 20 16:43 wikidata_edges_20200504.tsv.bz2\r\n",
      "-rw-r--r--@ 1 amandeep  staff    16G May 18 11:45 wikidata_edges_20200504.tsv.gz\r\n"
     ]
    }
   ],
   "source": [
    "ls -lh \"$WD\""
   ]
  },
  {
   "cell_type": "code",
   "execution_count": 7,
   "metadata": {},
   "outputs": [
    {
     "name": "stdout",
     "output_type": "stream",
     "text": [
      "id\tnode1\tlabel\tnode2\trank\tnode2;magnitude\tnode2;unit\tnode2;date\tnode2;item\tnode2;lower\tnode2;upper\tnode2;latitude\tnode2;longitude\tnode2;precision\tnode2;calendar\tnode2;entity-type\r",
      "\r\n",
      "Q8-P1245-1\tQ8\tP1245\t\"885155\"\tnormal\t\t\t\t\t\t\t\t\t\t\t\r",
      "\r\n",
      "Q8-P373-1\tQ8\tP373\t\"Happiness\"\tnormal\t\t\t\t\t\t\t\t\t\t\t\r",
      "\r\n",
      "Q8-P31-1\tQ8\tP31\tQ331769\tnormal\t\t\t\tQ331769\t\t\t\t\t\t\titem\r",
      "\r\n",
      "Q8-P31-2\tQ8\tP31\tQ60539479\tnormal\t\t\t\tQ60539479\t\t\t\t\t\t\titem\r",
      "\r\n",
      "Q8-P31-3\tQ8\tP31\tQ9415\tnormal\t\t\t\tQ9415\t\t\t\t\t\t\titem\r",
      "\r\n",
      "Q8-P508-1\tQ8\tP508\t\"13163\"\tnormal\t\t\t\t\t\t\t\t\t\t\t\r",
      "\r\n",
      "Q8-P18-1\tQ8\tP18\t\"Sweet Baby Kisses Family Love.jpg\"\tnormal\t\t\t\t\t\t\t\t\t\t\t\r",
      "\r\n",
      "Q8-P910-1\tQ8\tP910\tQ8505256\tnormal\t\t\t\tQ8505256\t\t\t\t\t\t\titem\r",
      "\r\n",
      "Q8-P349-1\tQ8\tP349\t\"00566227\"\tnormal\t\t\t\t\t\t\t\t\t\t\t\r",
      "\r\n",
      "gzcat: error writing to output: Broken pipe\r\n",
      "gzcat: /Users/amandeep/Documents/wikidata-20200504/wikidata_edges_20200504.tsv.gz: uncompress failed\r\n"
     ]
    }
   ],
   "source": [
    "!gzcat \"$WD/wikidata_edges_20200504.tsv.gz\" | head"
   ]
  },
  {
   "cell_type": "markdown",
   "metadata": {},
   "source": [
    "#### Filter out edges for countries from the Wikidata edges file"
   ]
  },
  {
   "cell_type": "code",
   "execution_count": 10,
   "metadata": {},
   "outputs": [
    {
     "name": "stdout",
     "output_type": "stream",
     "text": [
      "\r\n",
      "real\t33m17.010s\r\n",
      "user\t36m10.586s\r\n",
      "sys\t0m38.329s\r\n"
     ]
    }
   ],
   "source": [
    "!time gzcat \"$WD/wikidata_edges_20200504.tsv.gz\" \\\n",
    "  | kgtk ifexists --input-keys node1 --filter-on $COUNTRY_DIR/wikidata_countries_200.tsv --filter-keys node1 --filter-mode NONE \\\n",
    "  > $COUNTRY_DIR/wikidata-countries-edges.tsv"
   ]
  },
  {
   "cell_type": "markdown",
   "metadata": {},
   "source": [
    "#### Remove the extra columns"
   ]
  },
  {
   "cell_type": "code",
   "execution_count": 12,
   "metadata": {},
   "outputs": [
    {
     "name": "stdout",
     "output_type": "stream",
     "text": [
      "\r\n",
      "real\t0m1.713s\r\n",
      "user\t0m1.345s\r\n",
      "sys\t0m0.149s\r\n"
     ]
    }
   ],
   "source": [
    "!time cat $COUNTRY_DIR/wikidata-countries-edges.tsv | kgtk remove_columns -c \\\n",
    "\"rank,node2;magnitude,node2;unit,node2;date,node2;item,node2;lower,node2;upper,node2;latitude,node2;longitude,node2;precision,node2;calendar,node2;entity-type\" \\\n",
    "> $COUNTRY_DIR/wikidata-countries-edges-truncated.tsv"
   ]
  },
  {
   "cell_type": "markdown",
   "metadata": {},
   "source": [
    "#### Explode the column node2"
   ]
  },
  {
   "cell_type": "code",
   "execution_count": 13,
   "metadata": {},
   "outputs": [
    {
     "name": "stdout",
     "output_type": "stream",
     "text": [
      "list index out of range\n",
      "\n",
      "real\t0m6.585s\n",
      "user\t0m6.313s\n",
      "sys\t0m0.149s\n"
     ]
    }
   ],
   "source": [
    "!time cat $COUNTRY_DIR/wikidata-countries-edges-truncated.tsv | \\\n",
    "kgtk explode > $COUNTRY_DIR/wikidata-countries-edges-exploded.tsv"
   ]
  },
  {
   "cell_type": "markdown",
   "metadata": {},
   "source": [
    "#### Filter out labels and aliases for the country Qnodes"
   ]
  },
  {
   "cell_type": "code",
   "execution_count": 14,
   "metadata": {},
   "outputs": [
    {
     "name": "stdout",
     "output_type": "stream",
     "text": [
      "\r\n",
      "real\t2m26.871s\r\n",
      "user\t2m48.435s\r\n",
      "sys\t0m3.596s\r\n"
     ]
    }
   ],
   "source": [
    "!time gzcat \"$WD/wikidata_nodes_20200504_clean.tsv.gz\" \\\n",
    "  | kgtk ifexists --input-keys id --filter-on $COUNTRY_DIR/wikidata_countries_200.tsv --filter-keys node1 --filter-mode NONE \\\n",
    "  > $COUNTRY_DIR/wikidata-countries-nodes-labels-aliases.tsv"
   ]
  },
  {
   "cell_type": "markdown",
   "metadata": {},
   "source": [
    "#### Remove the columns `item` and `description` from the country nodes file"
   ]
  },
  {
   "cell_type": "code",
   "execution_count": 16,
   "metadata": {},
   "outputs": [
    {
     "name": "stdout",
     "output_type": "stream",
     "text": [
      "\r\n",
      "real\t0m0.925s\r\n",
      "user\t0m0.554s\r\n",
      "sys\t0m0.130s\r\n"
     ]
    }
   ],
   "source": [
    "!time cat $COUNTRY_DIR/wikidata-countries-nodes-labels-aliases.tsv | \\\n",
    "kgtk remove_columns -c \"type,description\" \\\n",
    "> $COUNTRY_DIR/wikidata-countries-nodes-labels-aliases-truncated.tsv"
   ]
  },
  {
   "cell_type": "markdown",
   "metadata": {},
   "source": [
    "#### Convert the wikidata-countries-nodes-labels-aliases-truncated.tsv file to KGTK Edge file format"
   ]
  },
  {
   "cell_type": "code",
   "execution_count": 18,
   "metadata": {},
   "outputs": [
    {
     "name": "stdout",
     "output_type": "stream",
     "text": [
      "mlr: Header/data length mismatch (3 != 1) at file \"(stdin)\" line 201.\r\n",
      "\r\n",
      "real\t0m0.007s\r\n",
      "user\t0m0.003s\r\n",
      "sys\t0m0.004s\r\n"
     ]
    }
   ],
   "source": [
    "!time cat $COUNTRY_DIR/wikidata-countries-nodes-labels-aliases-truncated.tsv | \\\n",
    "mlr --itsv --otsv reshape -i label,alias -o label,node2 \\\n",
    "> $COUNTRY_DIR/wikidata-countries-edges-labels-aliases-compacted.tsv"
   ]
  },
  {
   "cell_type": "markdown",
   "metadata": {},
   "source": [
    "aliases in the above file contains multiple values separated by | We can expand the values into multiple rows with kgtk expand command"
   ]
  },
  {
   "cell_type": "code",
   "execution_count": 21,
   "metadata": {},
   "outputs": [],
   "source": [
    "!cat $COUNTRY_DIR/wikidata-countries-edges-labels-aliases-compacted.tsv | \\\n",
    "kgtk expand --columns id label --mode NONE > $COUNTRY_DIR/wikidata-countries-edges-labels-aliases-id.tsv"
   ]
  },
  {
   "cell_type": "markdown",
   "metadata": {},
   "source": [
    "rename the column `id` to `node1`"
   ]
  },
  {
   "cell_type": "code",
   "execution_count": 24,
   "metadata": {},
   "outputs": [],
   "source": [
    "!kgtk rename_col $COUNTRY_DIR/wikidata-countries-edges-labels-aliases-id.tsv --old-columns id --new-columns node1 --mode NONE > \\\n",
    "$COUNTRY_DIR/wikidata-countries-edges-labels-aliases.tsv"
   ]
  },
  {
   "cell_type": "markdown",
   "metadata": {},
   "source": [
    "We have to the column id, to the `wikidata-countries-edges-labels-aliases.tsv`"
   ]
  },
  {
   "cell_type": "code",
   "execution_count": 34,
   "metadata": {},
   "outputs": [],
   "source": [
    "all_ids_dict = {}\n",
    "\n",
    "def create_id(node1, label):\n",
    "    id_key = '{}-{}'.format(node1, label)\n",
    "    if id_key not in all_ids_dict:\n",
    "        all_ids_dict[id_key] = 0\n",
    "    else:\n",
    "        all_ids_dict[id_key] += 1\n",
    "    return '{}-{}-{}'.format(node1, label, all_ids_dict[id_key])\n",
    "\n"
   ]
  },
  {
   "cell_type": "code",
   "execution_count": 35,
   "metadata": {},
   "outputs": [],
   "source": [
    "df = pd.read_csv('{}/wikidata-countries-edges-labels-aliases.tsv'.format(os.getenv('COUNTRY_DIR')), sep='\\t', dtype=object)\n",
    "for i, row in df.iterrows():\n",
    "    df.loc[i, 'id'] = create_id(row['node1'], row['label'])\n",
    "\n",
    "df.to_csv('{}/wikidata-countries-labels-aliases.tsv'.format(os.getenv('COUNTRY_DIR')), sep='\\t', index=False)"
   ]
  },
  {
   "cell_type": "markdown",
   "metadata": {},
   "source": [
    "#### Explode the country labels aliases file"
   ]
  },
  {
   "cell_type": "code",
   "execution_count": 36,
   "metadata": {},
   "outputs": [],
   "source": [
    "!cat $COUNTRY_DIR/wikidata-countries-labels-aliases.tsv | \\\n",
    "kgtk explode > $COUNTRY_DIR/wikidata-countries-labels-aliases-exploded.tsv"
   ]
  },
  {
   "cell_type": "markdown",
   "metadata": {},
   "source": [
    "#### Concatenate the Country Labels-Aliases files with other edges for countries, using `kgtk cat`"
   ]
  },
  {
   "cell_type": "code",
   "execution_count": 42,
   "metadata": {},
   "outputs": [],
   "source": [
    "!kgtk cat $COUNTRY_DIR/wikidata-countries-labels-aliases-exploded.tsv \\\n",
    "$COUNTRY_DIR/wikidata-countries-edges-exploded.tsv >  $COUNTRY_DIR/countries-edges-exploded-unsorted.tsv"
   ]
  },
  {
   "cell_type": "markdown",
   "metadata": {},
   "source": [
    "#### Sort the file by id and remove not required columns"
   ]
  },
  {
   "cell_type": "code",
   "execution_count": 45,
   "metadata": {},
   "outputs": [],
   "source": [
    "!kgtk sort $COUNTRY_DIR/countries-edges-exploded-unsorted.tsv -c id | \\\n",
    "kgtk remove_columns -c \"node2;kgtk:valid,node2;kgtk:list_len,node2;kgtk:si_units,node2;kgtk:language_suffix\" \\\n",
    "> $COUNTRY_DIR/countries-edges-exploded.tsv"
   ]
  },
  {
   "cell_type": "code",
   "execution_count": 48,
   "metadata": {},
   "outputs": [
    {
     "name": "stdout",
     "output_type": "stream",
     "text": [
      "node1\tlabel\tnode2\tid\tnode2;kgtk:data_type\tnode2;kgtk:number\tnode2;kgtk:low_tolerance\tnode2;kgtk:high_tolerance\tnode2;kgtk:units_node\tnode2;kgtk:text\tnode2;kgtk:language\tnode2;kgtk:latitude\tnode2;kgtk:longitude\tnode2;kgtk:date_and_time\tnode2;kgtk:precision\tnode2;kgtk:truth\tnode2;kgtk:symbol\r\n",
      "Q1000\tP1036\t\"2--6721\"\tQ1000-P1036-1\tstring\t\t\t\t\t\"2--6721\"\t\t\t\t\t\t\t\r\n",
      "Q1000\tP1081\t+0.548\tQ1000-P1081-1\tnumber\t0.548\t\t\t\t\t\t\t\t\t\t\t\r\n",
      "Q1000\tP1081\t+0.679\tQ1000-P1081-10\tnumber\t0.679\t\t\t\t\t\t\t\t\t\t\t\r\n",
      "Q1000\tP1081\t+0.684\tQ1000-P1081-11\tnumber\t0.684\t\t\t\t\t\t\t\t\t\t\t\r\n",
      "Q1000\tP1081\t+0.625\tQ1000-P1081-12\tnumber\t0.625\t\t\t\t\t\t\t\t\t\t\t\r\n",
      "Q1000\tP1081\t+0.624\tQ1000-P1081-13\tnumber\t0.624\t\t\t\t\t\t\t\t\t\t\t\r\n",
      "Q1000\tP1081\t+0.626\tQ1000-P1081-14\tnumber\t0.626\t\t\t\t\t\t\t\t\t\t\t\r\n",
      "Q1000\tP1081\t+0.630\tQ1000-P1081-15\tnumber\t0.63\t\t\t\t\t\t\t\t\t\t\t\r\n",
      "Q1000\tP1081\t+0.632\tQ1000-P1081-16\tnumber\t0.632\t\t\t\t\t\t\t\t\t\t\t\r\n"
     ]
    }
   ],
   "source": [
    "!head $COUNTRY_DIR/countries-edges-exploded.tsv "
   ]
  },
  {
   "cell_type": "code",
   "execution_count": null,
   "metadata": {},
   "outputs": [],
   "source": []
  }
 ],
 "metadata": {
  "kernelspec": {
   "display_name": "kgtk-env",
   "language": "python",
   "name": "kgtk-env"
  },
  "language_info": {
   "codemirror_mode": {
    "name": "ipython",
    "version": 3
   },
   "file_extension": ".py",
   "mimetype": "text/x-python",
   "name": "python",
   "nbconvert_exporter": "python",
   "pygments_lexer": "ipython3",
   "version": "3.7.7"
  }
 },
 "nbformat": 4,
 "nbformat_minor": 4
}
